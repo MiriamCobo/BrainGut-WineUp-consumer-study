{
 "cells": [
  {
   "cell_type": "code",
   "execution_count": 3,
   "metadata": {},
   "outputs": [
    {
     "data": {
      "text/html": [
       "<div>\n",
       "<style scoped>\n",
       "    .dataframe tbody tr th:only-of-type {\n",
       "        vertical-align: middle;\n",
       "    }\n",
       "\n",
       "    .dataframe tbody tr th {\n",
       "        vertical-align: top;\n",
       "    }\n",
       "\n",
       "    .dataframe thead th {\n",
       "        text-align: right;\n",
       "    }\n",
       "</style>\n",
       "<table border=\"1\" class=\"dataframe\">\n",
       "  <thead>\n",
       "    <tr style=\"text-align: right;\">\n",
       "      <th></th>\n",
       "      <th>#</th>\n",
       "      <th>IdVol</th>\n",
       "      <th>Correo electónico</th>\n",
       "      <th>Fecha</th>\n",
       "      <th>Momento de consumo</th>\n",
       "      <th>Tipo de vino</th>\n",
       "      <th>Cantidad de vino</th>\n",
       "      <th>Tipo de vaso</th>\n",
       "      <th>Prediccion</th>\n",
       "      <th>Unnamed: 9</th>\n",
       "      <th>Unnamed: 10</th>\n",
       "      <th>Unnamed: 11</th>\n",
       "    </tr>\n",
       "  </thead>\n",
       "  <tbody>\n",
       "    <tr>\n",
       "      <th>0</th>\n",
       "      <td>1</td>\n",
       "      <td>1f08ce1a-e69d-4e31-90e7-8505786c0b3a</td>\n",
       "      <td>jatokmls@gmail.com</td>\n",
       "      <td>14-06-2021_19-16-42</td>\n",
       "      <td>cena</td>\n",
       "      <td>crianza</td>\n",
       "      <td>125</td>\n",
       "      <td>no_determinado</td>\n",
       "      <td>NaN</td>\n",
       "      <td>NaN</td>\n",
       "      <td>NaN</td>\n",
       "      <td>NaN</td>\n",
       "    </tr>\n",
       "    <tr>\n",
       "      <th>1</th>\n",
       "      <td>2</td>\n",
       "      <td>cfc2a9a8-cf03-461b-8e50-63d3b28c6366</td>\n",
       "      <td>pedrodelrosal@gmail.com</td>\n",
       "      <td>28-05-2021_20-27-42</td>\n",
       "      <td>cena</td>\n",
       "      <td>reserva</td>\n",
       "      <td>150</td>\n",
       "      <td>copa_borg</td>\n",
       "      <td>NaN</td>\n",
       "      <td>NaN</td>\n",
       "      <td>NaN</td>\n",
       "      <td>NaN</td>\n",
       "    </tr>\n",
       "    <tr>\n",
       "      <th>2</th>\n",
       "      <td>2</td>\n",
       "      <td>cfc2a9a8-cf03-461b-8e50-63d3b28c6366</td>\n",
       "      <td>pedrodelrosal@gmail.com</td>\n",
       "      <td>15-06-2021_20-04-49</td>\n",
       "      <td>cena</td>\n",
       "      <td>crianza</td>\n",
       "      <td>100</td>\n",
       "      <td>copa_cata</td>\n",
       "      <td>NaN</td>\n",
       "      <td>NaN</td>\n",
       "      <td>NaN</td>\n",
       "      <td>NaN</td>\n",
       "    </tr>\n",
       "  </tbody>\n",
       "</table>\n",
       "</div>"
      ],
      "text/plain": [
       "   #                                 IdVol        Correo electónico  \\\n",
       "0  1  1f08ce1a-e69d-4e31-90e7-8505786c0b3a       jatokmls@gmail.com   \n",
       "1  2  cfc2a9a8-cf03-461b-8e50-63d3b28c6366  pedrodelrosal@gmail.com   \n",
       "2  2  cfc2a9a8-cf03-461b-8e50-63d3b28c6366  pedrodelrosal@gmail.com   \n",
       "\n",
       "                Fecha  Momento de consumo Tipo de vino  Cantidad de vino  \\\n",
       "0  14-06-2021_19-16-42               cena      crianza               125   \n",
       "1  28-05-2021_20-27-42               cena      reserva               150   \n",
       "2  15-06-2021_20-04-49               cena      crianza               100   \n",
       "\n",
       "     Tipo de vaso  Prediccion  Unnamed: 9  Unnamed: 10  Unnamed: 11  \n",
       "0  no_determinado         NaN         NaN          NaN          NaN  \n",
       "1       copa_borg         NaN         NaN          NaN          NaN  \n",
       "2       copa_cata         NaN         NaN          NaN          NaN  "
      ]
     },
     "execution_count": 3,
     "metadata": {},
     "output_type": "execute_result"
    }
   ],
   "source": [
    "import pandas as pd\n",
    "\n",
    "df = pd.read_excel('/srv/image-results/Com_VoluntariosEstudios_Predicciones.xlsx',\n",
    "     engine='openpyxl')\n",
    "df.rename(columns = {'Cantidad de vino estimada por el modelo':'Prediccion',\n",
    "                     'Código del voluntario ':'IdVol'}, inplace = True)\n",
    "df.head(3)"
   ]
  },
  {
   "cell_type": "code",
   "execution_count": 1,
   "metadata": {},
   "outputs": [],
   "source": [
    "import os\n",
    "import json\n",
    "import numpy as np\n",
    "\n",
    "from imgclas.data_utils import load_image\n",
    "from imgclas import paths, plot_utils\n",
    "\n",
    "import warnings\n",
    "warnings.filterwarnings(\"ignore\") # To ignore UndefinedMetricWarning: [Recall/Precision/F-Score] is ill-defined and being set to 0.0 in labels with no [true/predicted] samples.\n",
    "\n",
    "# User parameters to set\n",
    "TIMESTAMP = '2022-09-20_OnlyCuasi'           # timestamp of the model\n",
    "# SPLIT_NAME = 'testLaRiojaICVVCopasAll'                   # dataset split to predict\n",
    "SPLIT_NAME = 'voluntarios_estudios'\n",
    "MODEL_NAME = 'final_model.h5'         # model to use to make the mediction\n",
    "\n",
    "# Set the timestamp\n",
    "paths.timestamp = TIMESTAMP\n",
    "\n",
    "# Load back the predictions\n",
    "pred_path = os.path.join(paths.get_predictions_dir(), '{}+{}.json'.format(MODEL_NAME, SPLIT_NAME))\n",
    "with open(pred_path) as f:\n",
    "    pred_dict = json.load(f)"
   ]
  },
  {
   "cell_type": "code",
   "execution_count": 4,
   "metadata": {},
   "outputs": [
    {
     "name": "stdout",
     "output_type": "stream",
     "text": [
      "MAE: 26.044144043235278\n",
      "MSE: 1103.7015864744599\n",
      "RMSE: 33.22200455232134\n",
      "R-Squared: -0.02985636255967883\n"
     ]
    }
   ],
   "source": [
    "from imgclas import test_utils\n",
    "import sklearn.metrics as metrics\n",
    "# https://towardsdatascience.com/what-are-the-best-metrics-to-evaluate-your-regression-model-418ca481755b\n",
    "\n",
    "y, yhat = np.array(pred_dict['true_value']), np.array(pred_dict['pred_value'])\n",
    "\n",
    "mae = metrics.mean_absolute_error(y, yhat)\n",
    "mse = metrics.mean_squared_error(y, yhat)\n",
    "rmse = np.sqrt(mse) # or mse**(0.5)  \n",
    "r2 = metrics.r2_score(y,yhat)\n",
    "\n",
    "print(\"MAE:\",mae)\n",
    "print(\"MSE:\", mse)\n",
    "print(\"RMSE:\", rmse)\n",
    "print(\"R-Squared:\", r2)"
   ]
  },
  {
   "cell_type": "code",
   "execution_count": 54,
   "metadata": {},
   "outputs": [],
   "source": [
    "df_pred=pd.DataFrame(columns=['IdVol', 'Prediccion'])\n",
    "# creamos un dataframe con el valor predicho para cada id de voluntario\n",
    "for i in range(len(pred_dict['filenames'])):\n",
    "    vol_id=pred_dict['filenames'][i].split('/')[-1].split('_')[0]\n",
    "    value=pred_dict['pred_value'][i]\n",
    "    df_pred=df_pred.append(pd.DataFrame({'IdVol':[vol_id], 'Prediccion':[value]}))\n"
   ]
  },
  {
   "cell_type": "code",
   "execution_count": 57,
   "metadata": {},
   "outputs": [
    {
     "data": {
      "text/plain": [
       "(229, 12)"
      ]
     },
     "execution_count": 57,
     "metadata": {},
     "output_type": "execute_result"
    }
   ],
   "source": [
    "join pandas dataframe on a certai"
   ]
  },
  {
   "cell_type": "code",
   "execution_count": null,
   "metadata": {},
   "outputs": [],
   "source": [
    "pred_dict['pred_value']"
   ]
  }
 ],
 "metadata": {
  "kernelspec": {
   "display_name": "Python 3",
   "language": "python",
   "name": "python3"
  },
  "language_info": {
   "codemirror_mode": {
    "name": "ipython",
    "version": 3
   },
   "file_extension": ".py",
   "mimetype": "text/x-python",
   "name": "python",
   "nbconvert_exporter": "python",
   "pygments_lexer": "ipython3",
   "version": "3.6.8"
  }
 },
 "nbformat": 4,
 "nbformat_minor": 4
}
