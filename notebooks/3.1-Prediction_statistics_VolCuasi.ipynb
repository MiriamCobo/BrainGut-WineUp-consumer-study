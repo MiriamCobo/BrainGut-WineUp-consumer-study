{
 "cells": [
  {
   "cell_type": "markdown",
   "metadata": {},
   "source": [
    "# Predictions statistics\n",
    "\n",
    "Let's analyse the predictions made on our test datasplit.\n",
    "\n",
    "**Note** To run this notebook you previously have to run and save the predictions on a test dataset **with ground-truth labels**. See the Datasplit section in [3.0 notebook](./3.0-Computing_predictions.ipynb#Predicting-a-datasplit-txt-file) for reference.\n"
   ]
  },
  {
   "cell_type": "code",
   "execution_count": 31,
   "metadata": {},
   "outputs": [],
   "source": [
    "import os\n",
    "import json\n",
    "import numpy as np\n",
    "\n",
    "from imgclas.data_utils import load_image\n",
    "from imgclas import paths, plot_utils\n",
    "\n",
    "import warnings\n",
    "warnings.filterwarnings(\"ignore\") # To ignore UndefinedMetricWarning: [Recall/Precision/F-Score] is ill-defined and being set to 0.0 in labels with no [true/predicted] samples.\n",
    "\n",
    "# User parameters to set\n",
    "TIMESTAMP = '2022-09-09_27epochs_-2imagenesTrain_8batch'           # timestamp of the model\n",
    "# SPLIT_NAME = 'testLaRiojaICVVCopasAll'                   # dataset split to predict\n",
    "SPLIT_NAME = 'test'\n",
    "MODEL_NAME = 'final_model.h5'         # model to use to make the mediction\n",
    "\n",
    "# Set the timestamp\n",
    "paths.timestamp = TIMESTAMP\n",
    "\n",
    "# Load back the predictions\n",
    "pred_path = os.path.join(paths.get_predictions_dir(), '{}+{}.json'.format(MODEL_NAME, SPLIT_NAME))\n",
    "with open(pred_path) as f:\n",
    "    pred_dict = json.load(f)"
   ]
  },
  {
   "cell_type": "markdown",
   "metadata": {},
   "source": [
    "## Computing the metrics\n",
    "\n",
    "Check [sklearn](https://scikit-learn.org/stable/modules/classes.html#classification-metrics) for more classification metrics."
   ]
  },
  {
   "cell_type": "code",
   "execution_count": 15,
   "metadata": {},
   "outputs": [
    {
     "name": "stdout",
     "output_type": "stream",
     "text": [
      "MAE: 33.24668441772461\n",
      "MSE: 1727.7024128376215\n",
      "RMSE: 41.565639810276245\n",
      "R-Squared: 0.3086424918616961\n"
     ]
    }
   ],
   "source": [
    "# 4 batch\n",
    "from imgclas import test_utils\n",
    "import sklearn.metrics as metrics\n",
    "# https://towardsdatascience.com/what-are-the-best-metrics-to-evaluate-your-regression-model-418ca481755b\n",
    "\n",
    "y, yhat = np.array(pred_dict['true_value']), np.array(pred_dict['pred_value'])\n",
    "\n",
    "mae = metrics.mean_absolute_error(y, yhat)\n",
    "mse = metrics.mean_squared_error(y, yhat)\n",
    "rmse = np.sqrt(mse) # or mse**(0.5)  \n",
    "r2 = metrics.r2_score(y,yhat)\n",
    "\n",
    "print(\"MAE:\",mae)\n",
    "print(\"MSE:\", mse)\n",
    "print(\"RMSE:\", rmse)\n",
    "print(\"R-Squared:\", r2)"
   ]
  },
  {
   "cell_type": "code",
   "execution_count": 17,
   "metadata": {},
   "outputs": [
    {
     "name": "stdout",
     "output_type": "stream",
     "text": [
      "MAE: 32.51773536682129\n",
      "MSE: 1700.517880939724\n",
      "RMSE: 41.23733600682425\n",
      "R-Squared: 0.31952065588646494\n"
     ]
    }
   ],
   "source": [
    "# 8 batch\n",
    "from imgclas import test_utils\n",
    "import sklearn.metrics as metrics\n",
    "# https://towardsdatascience.com/what-are-the-best-metrics-to-evaluate-your-regression-model-418ca481755b\n",
    "\n",
    "y, yhat = np.array(pred_dict['true_value']), np.array(pred_dict['pred_value'])\n",
    "\n",
    "mae = metrics.mean_absolute_error(y, yhat)\n",
    "mse = metrics.mean_squared_error(y, yhat)\n",
    "rmse = np.sqrt(mse) # or mse**(0.5)  \n",
    "r2 = metrics.r2_score(y,yhat)\n",
    "\n",
    "print(\"MAE:\",mae)\n",
    "print(\"MSE:\", mse)\n",
    "print(\"RMSE:\", rmse)\n",
    "print(\"R-Squared:\", r2)"
   ]
  },
  {
   "cell_type": "code",
   "execution_count": null,
   "metadata": {},
   "outputs": [],
   "source": [
    "from imgclas import test_utils\n",
    "import sklearn.metrics as metrics\n",
    "# https://towardsdatascience.com/what-are-the-best-metrics-to-evaluate-your-regression-model-418ca481755b\n",
    "\n",
    "y, yhat = np.array(pred_dict['true_value']), np.array(pred_dict['pred_value'])\n",
    "\n",
    "mae = metrics.mean_absolute_error(y, yhat)\n",
    "mse = metrics.mean_squared_error(y, yhat)\n",
    "rmse = np.sqrt(mse) # or mse**(0.5)  \n",
    "r2 = metrics.r2_score(y,yhat)\n",
    "\n",
    "print(\"MAE:\",mae)\n",
    "print(\"MSE:\", mse)\n",
    "print(\"RMSE:\", rmse)\n",
    "print(\"R-Squared:\", r2)"
   ]
  },
  {
   "cell_type": "markdown",
   "metadata": {},
   "source": [
    "## Computing the confusion matrix"
   ]
  },
  {
   "cell_type": "code",
   "execution_count": 19,
   "metadata": {},
   "outputs": [],
   "source": [
    "'''\n",
    "Round a list of numbers to the closer 25th (i.e. 0, 25, 50, 75, etc.)\n",
    "\n",
    "It is important to note that x.5 will be rounded to x instead of x+1 in the current 3.6.8 Python version.\n",
    "For more details see https://stackoverflow.com/questions/10825926/python-3-x-rounding-behavior\n",
    "'''\n",
    "\n",
    "def myround_list(x, base=25):\n",
    "    y=[]\n",
    "    for i in x:\n",
    "        y.append(round(base * round(float(i)/base)))\n",
    "    return y"
   ]
  },
  {
   "cell_type": "code",
   "execution_count": 25,
   "metadata": {},
   "outputs": [],
   "source": [
    "import matplotlib.pylab as plt\n",
    "import seaborn\n",
    "from sklearn.metrics import confusion_matrix\n",
    "\n",
    "\n",
    "def plt_conf_matrix(conf_mat,  name, labels=False):\n",
    "    \n",
    "    fig = plt.figure(figsize=(20, 20))\n",
    "    hm = seaborn.heatmap(conf_mat, annot=True, square=True, cbar_kws={'fraction':0.046, 'pad':0.04},\n",
    "                         xticklabels=labels, yticklabels=labels, cmap=plt.cm.Blues, fmt=\".2f\")\n",
    "    fontsize = None\n",
    "    hm.yaxis.set_ticklabels(hm.yaxis.get_ticklabels(), rotation=0, ha='right', fontsize=fontsize)\n",
    "    hm.xaxis.set_ticklabels(hm.xaxis.get_ticklabels(), rotation=90, ha='right', fontsize=fontsize)\n",
    "\n",
    "    plt.ylabel('True label')\n",
    "    plt.xlabel('Predicted label')\n",
    "    \n",
    "    plt.savefig('/srv/image-results/'+name+'_confussionMatrix.jpg')"
   ]
  },
  {
   "cell_type": "markdown",
   "metadata": {},
   "source": [
    "### Standard confusion matrix"
   ]
  },
  {
   "cell_type": "code",
   "execution_count": 21,
   "metadata": {},
   "outputs": [
    {
     "data": {
      "image/png": "[encoded data removed]",
      "text/plain": [
       "<Figure size 1440x1440 with 2 Axes>"
      ]
     },
     "metadata": {
      "needs_background": "light"
     },
     "output_type": "display_data"
    }
   ],
   "source": [
    "y_true, y_pred = np.array(pred_dict['true_value']), np.array(myround_list(pred_dict['pred_value']))\n",
    "conf_mat = confusion_matrix(y_true, y_pred, sample_weight=None)\n",
    "normed_conf = conf_mat / np.sum(conf_mat, axis=1)[:, np.newaxis]\n",
    "\n",
    "# plt_conf_matrix(conf_mat)\n",
    "plt_conf_matrix(normed_conf, labels=[\"50 mL\", \"75 mL\", \"100 mL\", \"152 mL\", \"150 mL\",\n",
    "                                    \"175 mL\", \"200 mL\", \"225 mL\", \"250 mL\", \"275 mL\",\n",
    "                                    \"300 mL\"], name='Madrid_copasAll')"
   ]
  },
  {
   "cell_type": "markdown",
   "metadata": {},
   "source": [
    "## Volunteers' images"
   ]
  },
  {
   "cell_type": "code",
   "execution_count": 15,
   "metadata": {},
   "outputs": [
    {
     "ename": "FileNotFoundError",
     "evalue": "[Errno 2] No such file or directory: '/srv/image-classification-tf/models/2021-10-26_Lab_All_Copas_All_reg/predictions/final_model.h5+copasVoluntarios.json'",
     "output_type": "error",
     "traceback": [
      "\u001b[0;31m---------------------------------------------------------------------------\u001b[0m",
      "\u001b[0;31mFileNotFoundError\u001b[0m                         Traceback (most recent call last)",
      "\u001b[0;32m<ipython-input-15-a0f659f8e2a1>\u001b[0m in \u001b[0;36m<module>\u001b[0;34m\u001b[0m\n\u001b[1;32m     20\u001b[0m \u001b[0;31m# Load back the predictions\u001b[0m\u001b[0;34m\u001b[0m\u001b[0;34m\u001b[0m\u001b[0;34m\u001b[0m\u001b[0m\n\u001b[1;32m     21\u001b[0m \u001b[0mpred_path\u001b[0m \u001b[0;34m=\u001b[0m \u001b[0mos\u001b[0m\u001b[0;34m.\u001b[0m\u001b[0mpath\u001b[0m\u001b[0;34m.\u001b[0m\u001b[0mjoin\u001b[0m\u001b[0;34m(\u001b[0m\u001b[0mpaths\u001b[0m\u001b[0;34m.\u001b[0m\u001b[0mget_predictions_dir\u001b[0m\u001b[0;34m(\u001b[0m\u001b[0;34m)\u001b[0m\u001b[0;34m,\u001b[0m \u001b[0;34m'{}+{}.json'\u001b[0m\u001b[0;34m.\u001b[0m\u001b[0mformat\u001b[0m\u001b[0;34m(\u001b[0m\u001b[0mMODEL_NAME\u001b[0m\u001b[0;34m,\u001b[0m \u001b[0mSPLIT_NAME\u001b[0m\u001b[0;34m)\u001b[0m\u001b[0;34m)\u001b[0m\u001b[0;34m\u001b[0m\u001b[0;34m\u001b[0m\u001b[0m\n\u001b[0;32m---> 22\u001b[0;31m \u001b[0;32mwith\u001b[0m \u001b[0mopen\u001b[0m\u001b[0;34m(\u001b[0m\u001b[0mpred_path\u001b[0m\u001b[0;34m)\u001b[0m \u001b[0;32mas\u001b[0m \u001b[0mf\u001b[0m\u001b[0;34m:\u001b[0m\u001b[0;34m\u001b[0m\u001b[0;34m\u001b[0m\u001b[0m\n\u001b[0m\u001b[1;32m     23\u001b[0m     \u001b[0mpred_dict\u001b[0m \u001b[0;34m=\u001b[0m \u001b[0mjson\u001b[0m\u001b[0;34m.\u001b[0m\u001b[0mload\u001b[0m\u001b[0;34m(\u001b[0m\u001b[0mf\u001b[0m\u001b[0;34m)\u001b[0m\u001b[0;34m\u001b[0m\u001b[0;34m\u001b[0m\u001b[0m\n",
      "\u001b[0;31mFileNotFoundError\u001b[0m: [Errno 2] No such file or directory: '/srv/image-classification-tf/models/2021-10-26_Lab_All_Copas_All_reg/predictions/final_model.h5+copasVoluntarios.json'"
     ]
    }
   ],
   "source": [
    "import os\n",
    "import json\n",
    "import numpy as np\n",
    "\n",
    "from imgclas.data_utils import load_image\n",
    "from imgclas import paths, plot_utils\n",
    "\n",
    "import warnings\n",
    "warnings.filterwarnings(\"ignore\") # To ignore UndefinedMetricWarning: [Recall/Precision/F-Score] is ill-defined and being set to 0.0 in labels with no [true/predicted] samples.\n",
    "\n",
    "# User parameters to set\n",
    "TIMESTAMP = '2021-10-26_Lab_All_Copas_All_reg'           # timestamp of the model\n",
    "# SPLIT_NAME = 'testLaRiojaICVVCopasAll'                   # dataset split to predict\n",
    "SPLIT_NAME = 'copasVoluntarios'\n",
    "MODEL_NAME = 'final_model.h5'         # model to use to make the mediction\n",
    "\n",
    "# Set the timestamp\n",
    "paths.timestamp = TIMESTAMP\n",
    "\n",
    "# Load back the predictions\n",
    "pred_path = os.path.join(paths.get_predictions_dir(), '{}+{}.json'.format(MODEL_NAME, SPLIT_NAME))\n",
    "with open(pred_path) as f:\n",
    "    pred_dict = json.load(f)"
   ]
  },
  {
   "cell_type": "markdown",
   "metadata": {},
   "source": [
    "## Computing the metrics\n",
    "\n",
    "Check [sklearn](https://scikit-learn.org/stable/modules/classes.html#classification-metrics) for more classification metrics."
   ]
  },
  {
   "cell_type": "code",
   "execution_count": 16,
   "metadata": {},
   "outputs": [
    {
     "name": "stdout",
     "output_type": "stream",
     "text": [
      "MAE: 32.51773536682129\n",
      "MSE: 1700.517880939724\n",
      "RMSE: 41.23733600682425\n",
      "R-Squared: 0.31952065588646494\n"
     ]
    }
   ],
   "source": [
    "from imgclas import test_utils\n",
    "import sklearn.metrics as metrics\n",
    "# https://towardsdatascience.com/what-are-the-best-metrics-to-evaluate-your-regression-model-418ca481755b\n",
    "\n",
    "y, yhat = np.array(pred_dict['true_value']), np.array(pred_dict['pred_value'])\n",
    "\n",
    "mae = metrics.mean_absolute_error(y, yhat)\n",
    "mse = metrics.mean_squared_error(y, yhat)\n",
    "rmse = np.sqrt(mse) # or mse**(0.5)  \n",
    "r2 = metrics.r2_score(y,yhat)\n",
    "\n",
    "print(\"MAE:\",mae)\n",
    "print(\"MSE:\", mse)\n",
    "print(\"RMSE:\", rmse)\n",
    "print(\"R-Squared:\", r2)"
   ]
  },
  {
   "cell_type": "markdown",
   "metadata": {},
   "source": [
    "## Computing the confusion matrix"
   ]
  },
  {
   "cell_type": "code",
   "execution_count": 17,
   "metadata": {},
   "outputs": [],
   "source": [
    "'''\n",
    "Round a list of numbers to the closer 25th (i.e. 0, 25, 50, 75, etc.)\n",
    "\n",
    "It is important to note that x.5 will be rounded to x instead of x+1 in the current 3.6.8 Python version.\n",
    "For more details see https://stackoverflow.com/questions/10825926/python-3-x-rounding-behavior\n",
    "'''\n",
    "\n",
    "def myround_list(x, base=25):\n",
    "    y=[]\n",
    "    for i in x:\n",
    "        y.append(round(base * round(float(i)/base)))\n",
    "    return y"
   ]
  },
  {
   "cell_type": "code",
   "execution_count": 18,
   "metadata": {},
   "outputs": [],
   "source": [
    "import matplotlib.pylab as plt\n",
    "import seaborn\n",
    "from sklearn.metrics import confusion_matrix\n",
    "\n",
    "\n",
    "def plt_conf_matrix(conf_mat,  name, labels=False):\n",
    "    \n",
    "    fig = plt.figure(figsize=(20, 20))\n",
    "    hm = seaborn.heatmap(conf_mat, annot=True, square=True, cbar_kws={'fraction':0.046, 'pad':0.04},\n",
    "                         xticklabels=labels, yticklabels=labels, cmap=plt.cm.Blues, fmt=\".2f\")\n",
    "    fontsize = None\n",
    "    hm.yaxis.set_ticklabels(hm.yaxis.get_ticklabels(), rotation=0, ha='right', fontsize=fontsize)\n",
    "    hm.xaxis.set_ticklabels(hm.xaxis.get_ticklabels(), rotation=90, ha='right', fontsize=fontsize)\n",
    "\n",
    "    plt.ylabel('True label')\n",
    "    plt.xlabel('Predicted label')\n",
    "    \n",
    "#     plt.savefig('/srv/image-results/'+name+'_confussionMatrix.jpg')"
   ]
  },
  {
   "cell_type": "markdown",
   "metadata": {},
   "source": [
    "### Standard confusion matrix"
   ]
  },
  {
   "cell_type": "code",
   "execution_count": 32,
   "metadata": {},
   "outputs": [
    {
     "data": {
      "image/png": "[encoded data removed]",
      "text/plain": [
       "<Figure size 1440x1440 with 2 Axes>"
      ]
     },
     "metadata": {
      "needs_background": "light"
     },
     "output_type": "display_data"
    }
   ],
   "source": [
    "y_true, y_pred = np.array(pred_dict['true_value']), np.array(myround_list(pred_dict['pred_value']))\n",
    "conf_mat = confusion_matrix(y_true, y_pred, sample_weight=None)\n",
    "normed_conf = conf_mat / np.sum(conf_mat, axis=1)[:, np.newaxis]\n",
    "\n",
    "# plt_conf_matrix(conf_mat)\n",
    "\n",
    "plt_conf_matrix(normed_conf, labels=[\"50 mL\", \"75 mL\", \"100 mL\", \"125 mL\", \"150 mL\",\n",
    "                                    \"175 mL\", \"200 mL\", \"225 mL\"], name='ModeloBatch8SinDataAugmentation')\n",
    "# plt_conf_matrix(normed_conf, labels=[\"50 mL\", \"75 mL\", \"100 mL\", \"125 mL\", \"150 mL\",\n",
    "#                                     \"175 mL\", \"200 mL\", \"225 mL\", \"250 mL\", \"275 mL\",\n",
    "#                                     \"300 mL\"], name='Madrid_copasAll')"
   ]
  },
  {
   "cell_type": "code",
   "execution_count": 9,
   "metadata": {},
   "outputs": [],
   "source": [
    "'''\n",
    "Round a number to the closer 25th (i.e. 0, 25, 50, 75, etc.)\n",
    "\n",
    "It is important to note that x.5 will be rounded to x instead of x+1 in the current 3.6.8 Python version.\n",
    "For more details see https://stackoverflow.com/questions/10825926/python-3-x-rounding-behavior\n",
    "'''\n",
    "\n",
    "def myround(x, base=25):\n",
    "    return round(base * round(float(x)/base))"
   ]
  },
  {
   "cell_type": "code",
   "execution_count": 10,
   "metadata": {},
   "outputs": [],
   "source": [
    "# save images that are wrong predicted in a list,\n",
    "# to see if they share a pattern\n",
    "right_predictions=[]\n",
    "for i in range(len(pred_dict['true_value'])):\n",
    "    if myround(pred_dict['pred_value'][i])==pred_dict['true_value'][i]:\n",
    "        right_predictions.append(pred_dict['filenames'][i])"
   ]
  },
  {
   "cell_type": "code",
   "execution_count": 11,
   "metadata": {},
   "outputs": [],
   "source": [
    "# save images that are wrong predicted in a list,\n",
    "# to see if they share a pattern\n",
    "wrong_predictions=[]\n",
    "for i in range(len(pred_dict['true_value'])):\n",
    "    if myround(pred_dict['pred_value'][i])!=pred_dict['true_value'][i]:\n",
    "        wrong_predictions.append(pred_dict['filenames'][i])"
   ]
  },
  {
   "cell_type": "code",
   "execution_count": 12,
   "metadata": {},
   "outputs": [
    {
     "data": {
      "text/plain": [
       "41"
      ]
     },
     "execution_count": 12,
     "metadata": {},
     "output_type": "execute_result"
    }
   ],
   "source": [
    "len(wrong_predictions)"
   ]
  },
  {
   "cell_type": "code",
   "execution_count": 10,
   "metadata": {},
   "outputs": [
    {
     "data": {
      "text/plain": [
       "41"
      ]
     },
     "execution_count": 10,
     "metadata": {},
     "output_type": "execute_result"
    }
   ],
   "source": [
    "len(wrong_predictions) # hay 81 fotos de voluntarios, solo predice correctamente 10"
   ]
  },
  {
   "cell_type": "code",
   "execution_count": 11,
   "metadata": {},
   "outputs": [
    {
     "data": {
      "text/plain": [
       "['/srv/data/allVoluntarios/test/9a4bbc89-d0e6-4a7c-98af-2e588d9ae21b_otra_joven_100_pinta_fuera_19-06-2021_11-16-02.jpg',\n",
       " '/srv/data/allVoluntarios/test/148764ca-c6cb-46cd-8295-36c4880d1c25_madrid_crianza_100_copa_burd_almuerzo_18-03-2022_14-37-22.jpg',\n",
       " '/srv/data/allVoluntarios/test/86788afc-488e-4030-98d3-e28a52f43919_otra_joven_75_copa_borg_almuerzo_04-03-2022_14-29-55.jpg',\n",
       " '/srv/data/allVoluntarios/test/8ec17b0f-b668-49d7-8d6e-9799c5601a30_otra_crianza_50_copa_borg_almuerzo_02-06-2021_13-32-47.jpg',\n",
       " '/srv/data/allVoluntarios/test/ffa31c45-f069-4af1-a195-ab900644e81d_madrid_crianza_175_copa_burd_almuerzo_26-11-2021_14-25-30.jpg',\n",
       " '/srv/data/allVoluntarios/test/148764ca-c6cb-46cd-8295-36c4880d1c25_madrid_reserva_100_copa_burd_cena_21-03-2022_20-00-35.jpg',\n",
       " '/srv/data/allVoluntarios/test/c0ffe414-5112-4a3b-be1b-26df67e4c930_madrid_joven_125_copa_borg_almuerzo_20-11-2021_13-42-29.jpg',\n",
       " '/srv/data/allVoluntarios/test/0a3fcef2-6a4d-4af1-aa7f-3905987b8be3_otra_joven_75_chiqui_cena_13-11-2021_14-14-59.jpg',\n",
       " '/srv/data/allVoluntarios/test/0fd89cb7-780b-41d2-ac80-10b553c098c3_otra_reserva_200_copa_cata_almuerzo_05-12-2021_14-54-06.jpg',\n",
       " '/srv/data/allVoluntarios/test/9a4bbc89-d0e6-4a7c-98af-2e588d9ae21b_otra_joven_100_chato_fuera_19-06-2021_19-32-16.jpg',\n",
       " '/srv/data/allVoluntarios/test/77a8efd5-2a40-411e-9e58-c403a27e15c8_otra_reserva_75_copa_borg_almuerzo_12-06-2021_11-31-47.jpeg',\n",
       " '/srv/data/allVoluntarios/test/86788afc-488e-4030-98d3-e28a52f43919_otra_joven_100_copa_borg_cena_16-02-2022_19-53-42.jpg',\n",
       " '/srv/data/allVoluntarios/test/cfc2a9a8-cf03-461b-8e50-63d3b28c6366_otra_reserva_150_copa_borg_cena_28-05-2021_20-27-42.jpg',\n",
       " '/srv/data/allVoluntarios/test/1c98740d-4900-4603-86d2-a3434c892cad_madrid_reserva_75_copa_burd_cena_08-03-2022_21-12-07.jpg',\n",
       " '/srv/data/allVoluntarios/test/1ce56317-c53e-4ca8-a09c-6a6a599e6b1d_otra_reserva_275_copa_burd_almuerzo_03-03-2022_13-13-12.jpg',\n",
       " '/srv/data/allVoluntarios/test/6853afb2-aee1-4d11-a719-0f7d34389acb_otra_crianza_50_copa_burd_almuerzo_14-06-2021_06-28-56.jpg',\n",
       " '/srv/data/allVoluntarios/test/1ce56317-c53e-4ca8-a09c-6a6a599e6b1d_madrid_reserva_200_chato_almuerzo_24-02-2022_13-10-32.jpg',\n",
       " '/srv/data/allVoluntarios/test/06aee159-0a6f-49e2-906e-cd08b5c36f11_madrid_crianza_50_copa_chard_almuerzo_18-03-2022_14-37-47.jpeg',\n",
       " '/srv/data/allVoluntarios/test/a1420540-8b57-400e-bacb-ce6030e0670c_madrid_crianza_150_copa_burd_almuerzo_13-03-2022_20-40-01.jpg',\n",
       " '/srv/data/allVoluntarios/test/199d1910-3834-4c76-a14f-f44ad9f6e9dc_madrid_crianza_150_copa_balon_almuerzo_16-06-2021_17-53-04.jpeg',\n",
       " '/srv/data/allVoluntarios/test/148764ca-c6cb-46cd-8295-36c4880d1c25_madrid_crianza_125_copa_borg_almuerzo_19-03-2022_14-10-38.jpg',\n",
       " '/srv/data/allVoluntarios/test/8216b4f0-96e1-463b-a478-404361eefdc8_madrid_crianza_75_copa_cata_almuerzo_13-03-2022_14-37-12.jpg',\n",
       " '/srv/data/allVoluntarios/test/0a3fcef2-6a4d-4af1-aa7f-3905987b8be3_madrid_crianza_75_copa_burd_cena_23-11-2021_20-17-00.jpg',\n",
       " '/srv/data/allVoluntarios/test/b689a78d-3bc9-4900-a3c9-c5df95529683_otra_crianza_200_copa_burd_fuera_05-02-2022_12-41-46.jpeg',\n",
       " '/srv/data/allVoluntarios/test/ffa31c45-f069-4af1-a195-ab900644e81d_madrid_crianza_150_duralex_almuerzo_12-11-2021_13-30-29.jpg',\n",
       " '/srv/data/allVoluntarios/test/fc10958e-5328-4274-b876-6cd04be4a907_madrid_crianza_50_copa_cata_almuerzo_21-11-2021_12-50-05.jpg',\n",
       " '/srv/data/allVoluntarios/test/1c98740d-4900-4603-86d2-a3434c892cad_madrid_reserva_150_copa_burd_almuerzo_05-03-2022_13-08-53.jpg',\n",
       " '/srv/data/allVoluntarios/test/b689a78d-3bc9-4900-a3c9-c5df95529683_madrid_crianza_200_copa_cata_cena_13-02-2022_19-54-55.jpeg',\n",
       " '/srv/data/allVoluntarios/test/1c98740d-4900-4603-86d2-a3434c892cad_madrid_crianza_175_copa_burd_almuerzo_19-03-2022_10-36-26.jpg',\n",
       " '/srv/data/allVoluntarios/test/b689a78d-3bc9-4900-a3c9-c5df95529683_otra_joven_150_copa_burd_fuera_05-02-2022_20-14-20.jpeg',\n",
       " '/srv/data/allVoluntarios/test/199d1910-3834-4c76-a14f-f44ad9f6e9dc_madrid_joven_75_copa_balon_cena_10-11-2021_20-16-20.jpg',\n",
       " '/srv/data/allVoluntarios/test/8216b4f0-96e1-463b-a478-404361eefdc8_otra_joven_175_copa_burd_cena_04-03-2022_22-11-44.jpg',\n",
       " '/srv/data/allVoluntarios/test/199d1910-3834-4c76-a14f-f44ad9f6e9dc_madrid_crianza_150_copa_burd_almuerzo_13-06-2021_12-48-29.jpg',\n",
       " '/srv/data/allVoluntarios/test/1573eac2-326b-4bb1-ab47-4326260ea346_otra_reserva_200_copa_cata_almuerzo_05-12-2021_14-57-45.jpg',\n",
       " '/srv/data/allVoluntarios/test/ffa31c45-f069-4af1-a195-ab900644e81d_madrid_crianza_100_copa_chard_cena_18-11-2021_20-39-23.jpg',\n",
       " '/srv/data/allVoluntarios/test/1c98740d-4900-4603-86d2-a3434c892cad_madrid_crianza_175_copa_burd_cena_18-03-2022_10-19-11.jpg',\n",
       " '/srv/data/allVoluntarios/test/c0ffe414-5112-4a3b-be1b-26df67e4c930_madrid_joven_100_chiqui_almuerzo_23-11-2021_12-40-42.jpg',\n",
       " '/srv/data/allVoluntarios/test/b7e5607e-25e5-4099-ae25-391bd5ced089_madrid_crianza_75_copa_borg_almuerzo_18-03-2022_14-36-18.jpg',\n",
       " '/srv/data/allVoluntarios/test/0a3fcef2-6a4d-4af1-aa7f-3905987b8be3_madrid_crianza_75_copa_burd_cena_11-11-2021_20-23-34.jpg',\n",
       " '/srv/data/allVoluntarios/test/199d1910-3834-4c76-a14f-f44ad9f6e9dc_madrid_crianza_175_copa_borg_almuerzo_26-11-2021_16-28-30.jpeg',\n",
       " '/srv/data/allVoluntarios/test/0addbab7-fb3a-4768-82e3-590a42e2f122_madrid_crianza_75_copa_cata_cena_19-11-2021_20-10-25.jpg']"
      ]
     },
     "execution_count": 11,
     "metadata": {},
     "output_type": "execute_result"
    }
   ],
   "source": [
    "wrong_predictions"
   ]
  },
  {
   "cell_type": "code",
   "execution_count": 12,
   "metadata": {},
   "outputs": [],
   "source": [
    "# save images that are wrong predicted in a list,\n",
    "# to see if they share a pattern\n",
    "right_predictions=[]\n",
    "for i in range(len(pred_dict['true_value'])):\n",
    "    if myround(pred_dict['pred_value'][i])==pred_dict['true_value'][i]:\n",
    "        right_predictions.append(pred_dict['filenames'][i])"
   ]
  },
  {
   "cell_type": "code",
   "execution_count": 13,
   "metadata": {},
   "outputs": [
    {
     "data": {
      "text/plain": [
       "['/srv/data/allVoluntarios/test/28b0a91f-c60c-4a1b-afbc-db6351599977_madrid_joven_125_copa_chard_cena_24-11-2021_20-31-15.jpg',\n",
       " '/srv/data/allVoluntarios/test/a1420540-8b57-400e-bacb-ce6030e0670c_madrid_reserva_100_copa_burd_cena_08-03-2022_20-58-31.jpg',\n",
       " '/srv/data/allVoluntarios/test/10d528b5-9f02-4820-85fe-62db3bf2d031_madrid_joven_125_duralex_cena_31-05-2021_19-45-40.jpg',\n",
       " '/srv/data/allVoluntarios/test/cfc2a9a8-cf03-461b-8e50-63d3b28c6366_otra_crianza_100_copa_cata_cena_15-06-2021_20-04-49.jpg',\n",
       " '/srv/data/allVoluntarios/test/06aee159-0a6f-49e2-906e-cd08b5c36f11_madrid_reserva_100_copa_borg_almuerzo_26-03-2022_13-25-51.jpg',\n",
       " '/srv/data/allVoluntarios/test/1ce56317-c53e-4ca8-a09c-6a6a599e6b1d_madrid_reserva_150_chato_almuerzo_01-03-2022_13-14-50.jpg',\n",
       " '/srv/data/allVoluntarios/test/1c98740d-4900-4603-86d2-a3434c892cad_madrid_crianza_175_copa_burd_cena_14-03-2022_13-42-59.jpg',\n",
       " '/srv/data/allVoluntarios/test/0fd89cb7-780b-41d2-ac80-10b553c098c3_otra_joven_125_chiqui_almuerzo_04-12-2021_14-34-46.jpg',\n",
       " '/srv/data/allVoluntarios/test/148764ca-c6cb-46cd-8295-36c4880d1c25_madrid_crianza_100_copa_burd_almuerzo_06-04-2022_12-19-25.jpg']"
      ]
     },
     "execution_count": 13,
     "metadata": {},
     "output_type": "execute_result"
    }
   ],
   "source": [
    "right_predictions"
   ]
  },
  {
   "cell_type": "code",
   "execution_count": 13,
   "metadata": {},
   "outputs": [
    {
     "data": {
      "text/plain": [
       "['/srv/data/allVoluntarios/test/28b0a91f-c60c-4a1b-afbc-db6351599977_madrid_joven_125_copa_chard_cena_24-11-2021_20-31-15.jpg',\n",
       " '/srv/data/allVoluntarios/test/a1420540-8b57-400e-bacb-ce6030e0670c_madrid_reserva_100_copa_burd_cena_08-03-2022_20-58-31.jpg',\n",
       " '/srv/data/allVoluntarios/test/10d528b5-9f02-4820-85fe-62db3bf2d031_madrid_joven_125_duralex_cena_31-05-2021_19-45-40.jpg',\n",
       " '/srv/data/allVoluntarios/test/0a3fcef2-6a4d-4af1-aa7f-3905987b8be3_otra_joven_75_chiqui_cena_13-11-2021_14-14-59.jpg',\n",
       " '/srv/data/allVoluntarios/test/06aee159-0a6f-49e2-906e-cd08b5c36f11_madrid_reserva_100_copa_borg_almuerzo_26-03-2022_13-25-51.jpg',\n",
       " '/srv/data/allVoluntarios/test/1c98740d-4900-4603-86d2-a3434c892cad_madrid_reserva_150_copa_burd_almuerzo_05-03-2022_13-08-53.jpg',\n",
       " '/srv/data/allVoluntarios/test/1ce56317-c53e-4ca8-a09c-6a6a599e6b1d_madrid_reserva_150_chato_almuerzo_01-03-2022_13-14-50.jpg',\n",
       " '/srv/data/allVoluntarios/test/0fd89cb7-780b-41d2-ac80-10b553c098c3_otra_joven_125_chiqui_almuerzo_04-12-2021_14-34-46.jpg',\n",
       " '/srv/data/allVoluntarios/test/148764ca-c6cb-46cd-8295-36c4880d1c25_madrid_crianza_100_copa_burd_almuerzo_06-04-2022_12-19-25.jpg']"
      ]
     },
     "execution_count": 13,
     "metadata": {},
     "output_type": "execute_result"
    }
   ],
   "source": [
    "right_predictions # 8 batch"
   ]
  }
 ],
 "metadata": {
  "kernelspec": {
   "display_name": "Python 3",
   "language": "python",
   "name": "python3"
  },
  "language_info": {
   "codemirror_mode": {
    "name": "ipython",
    "version": 3
   },
   "file_extension": ".py",
   "mimetype": "text/x-python",
   "name": "python",
   "nbconvert_exporter": "python",
   "pygments_lexer": "ipython3",
   "version": "3.6.8"
  }
 },
 "nbformat": 4,
 "nbformat_minor": 4
}
